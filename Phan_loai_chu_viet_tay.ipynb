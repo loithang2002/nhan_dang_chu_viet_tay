{
 "cells": [
  {
   "cell_type": "code",
   "execution_count": 1,
   "id": "8a184532",
   "metadata": {},
   "outputs": [
    {
     "name": "stdout",
     "output_type": "stream",
     "text": [
      "Defaulting to user installation because normal site-packages is not writeable\n",
      "Requirement already satisfied: imutils in c:\\users\\xuan loi\\appdata\\roaming\\python\\python39\\site-packages (0.5.4)\n"
     ]
    }
   ],
   "source": [
    "!pip install imutils"
   ]
  },
  {
   "cell_type": "code",
   "execution_count": 2,
   "id": "e74e18a4",
   "metadata": {},
   "outputs": [],
   "source": [
    "import numpy as np\n",
    "import pandas as pd\n",
    "from keras.preprocessing.image import ImageDataGenerator\n",
    "import os\n",
    "import random \n",
    "import cv2\n",
    "import imutils\n",
    "import random\n",
    "import matplotlib.pyplot as plt\n",
    "import seaborn as sns\n",
    "from sklearn.preprocessing import LabelBinarizer\n",
    "from keras.utils import np_utils\n",
    "from keras.models import Sequential\n",
    "from keras import optimizers\n",
    "from sklearn.preprocessing import LabelBinarizer\n",
    "from keras import backend as K\n",
    "from keras.layers import Dense, Activation, Flatten, Dense,MaxPooling2D, Dropout\n",
    "from keras.layers import Conv2D, MaxPooling2D, BatchNormalization"
   ]
  },
  {
   "cell_type": "code",
   "execution_count": 3,
   "id": "073cc021",
   "metadata": {},
   "outputs": [],
   "source": [
    "dir = \"archive (5)\\\\Train\"\n",
    "train_data = []\n",
    "img_size = 32\n",
    "non_chars = [\"#\",\"$\",\"&\",\"@\"]\n",
    "for i in os.listdir(dir):\n",
    "    if i in non_chars:\n",
    "        continue\n",
    "    count = 0\n",
    "    sub_directory = os.path.join(dir,i)\n",
    "    for j in os.listdir(sub_directory):\n",
    "        count+=1\n",
    "        if count > 4000:\n",
    "            break\n",
    "        img = cv2.imread(os.path.join(sub_directory,j),0)\n",
    "        img = cv2.resize(img,(img_size,img_size))\n",
    "        train_data.append([img,i])"
   ]
  },
  {
   "cell_type": "code",
   "execution_count": 4,
   "id": "ba65f72a",
   "metadata": {},
   "outputs": [
    {
     "data": {
      "text/plain": [
       "140000"
      ]
     },
     "execution_count": 4,
     "metadata": {},
     "output_type": "execute_result"
    }
   ],
   "source": [
    "len(train_data)"
   ]
  },
  {
   "cell_type": "code",
   "execution_count": 5,
   "id": "83cf04c6",
   "metadata": {},
   "outputs": [],
   "source": [
    "val_dir = \"archive (5)\\\\Validation\"\n",
    "val_data = []\n",
    "img_size = 32\n",
    "for i in os.listdir(val_dir):\n",
    "    if i in non_chars:\n",
    "        continue\n",
    "    count = 0\n",
    "    sub_directory = os.path.join(val_dir,i)\n",
    "    for j in os.listdir(sub_directory):\n",
    "        count+=1\n",
    "        if count > 1000:\n",
    "            break\n",
    "        img = cv2.imread(os.path.join(sub_directory,j),0)\n",
    "        img = cv2.resize(img,(img_size,img_size))\n",
    "        val_data.append([img,i])"
   ]
  },
  {
   "cell_type": "code",
   "execution_count": 6,
   "id": "132ace43",
   "metadata": {},
   "outputs": [
    {
     "data": {
      "text/plain": [
       "15209"
      ]
     },
     "execution_count": 6,
     "metadata": {},
     "output_type": "execute_result"
    }
   ],
   "source": [
    "len(val_data)"
   ]
  },
  {
   "cell_type": "code",
   "execution_count": 7,
   "id": "c31baf17",
   "metadata": {},
   "outputs": [],
   "source": [
    "random.shuffle(train_data)\n",
    "random.shuffle(val_data)"
   ]
  },
  {
   "cell_type": "code",
   "execution_count": 8,
   "id": "61c75949",
   "metadata": {},
   "outputs": [],
   "source": [
    "train_X = []\n",
    "train_Y = []\n",
    "for features,label in train_data:\n",
    "    train_X.append(features)\n",
    "    train_Y.append(label)"
   ]
  },
  {
   "cell_type": "code",
   "execution_count": 9,
   "id": "061e05b1",
   "metadata": {},
   "outputs": [],
   "source": [
    "val_X = []\n",
    "val_Y = []\n",
    "for features,label in val_data:\n",
    "    val_X.append(features)\n",
    "    val_Y.append(label)"
   ]
  },
  {
   "cell_type": "code",
   "execution_count": 10,
   "id": "43786691",
   "metadata": {},
   "outputs": [],
   "source": [
    "LB = LabelBinarizer()\n",
    "train_Y = LB.fit_transform(train_Y)\n",
    "val_Y = LB.fit_transform(val_Y)"
   ]
  },
  {
   "cell_type": "code",
   "execution_count": 11,
   "id": "52681228",
   "metadata": {},
   "outputs": [],
   "source": [
    "train_X = np.array(train_X)/255.0\n",
    "train_X = train_X.reshape(-1,32,32,1)\n",
    "train_Y = np.array(train_Y)"
   ]
  },
  {
   "cell_type": "code",
   "execution_count": 12,
   "id": "dd215a33",
   "metadata": {},
   "outputs": [],
   "source": [
    "val_X = np.array(val_X)/255.0\n",
    "val_X = val_X.reshape(-1,32,32,1)\n",
    "val_Y = np.array(val_Y)"
   ]
  },
  {
   "cell_type": "code",
   "execution_count": 13,
   "id": "69d6b340",
   "metadata": {},
   "outputs": [
    {
     "name": "stdout",
     "output_type": "stream",
     "text": [
      "(140000, 32, 32, 1) (15209, 32, 32, 1)\n"
     ]
    }
   ],
   "source": [
    "print(train_X.shape,val_X.shape)"
   ]
  },
  {
   "cell_type": "code",
   "execution_count": 14,
   "id": "6d4dfaef",
   "metadata": {},
   "outputs": [
    {
     "name": "stdout",
     "output_type": "stream",
     "text": [
      "(140000, 35) (15209, 35)\n"
     ]
    }
   ],
   "source": [
    "print(train_Y.shape,val_Y.shape)"
   ]
  },
  {
   "cell_type": "code",
   "execution_count": 15,
   "id": "7bb0c81a",
   "metadata": {},
   "outputs": [],
   "source": [
    "model = Sequential()\n",
    "\n",
    "model.add(Conv2D(32, (3, 3), padding = \"same\", activation='relu', input_shape=(32,32,1)))\n",
    "model.add(MaxPooling2D(pool_size=(2,2)))\n",
    "\n",
    "model.add(Conv2D(64, (3, 3), activation='relu'))\n",
    "model.add(MaxPooling2D(pool_size=(2,2)))\n",
    "\n",
    "model.add(Conv2D(128, (3, 3), activation='relu'))\n",
    "model.add(MaxPooling2D(pool_size=(2,2)))\n",
    "\n",
    "model.add(Dropout(0.25))\n",
    " \n",
    "model.add(Flatten())\n",
    "model.add(Dense(128, activation='relu'))\n",
    "model.add(Dropout(0.2))\n",
    "model.add(Dense(35, activation='softmax'))"
   ]
  },
  {
   "cell_type": "code",
   "execution_count": 16,
   "id": "5d56ef68",
   "metadata": {},
   "outputs": [
    {
     "name": "stdout",
     "output_type": "stream",
     "text": [
      "Model: \"sequential\"\n",
      "_________________________________________________________________\n",
      " Layer (type)                Output Shape              Param #   \n",
      "=================================================================\n",
      " conv2d (Conv2D)             (None, 32, 32, 32)        320       \n",
      "                                                                 \n",
      " max_pooling2d (MaxPooling2D  (None, 16, 16, 32)       0         \n",
      " )                                                               \n",
      "                                                                 \n",
      " conv2d_1 (Conv2D)           (None, 14, 14, 64)        18496     \n",
      "                                                                 \n",
      " max_pooling2d_1 (MaxPooling  (None, 7, 7, 64)         0         \n",
      " 2D)                                                             \n",
      "                                                                 \n",
      " conv2d_2 (Conv2D)           (None, 5, 5, 128)         73856     \n",
      "                                                                 \n",
      " max_pooling2d_2 (MaxPooling  (None, 2, 2, 128)        0         \n",
      " 2D)                                                             \n",
      "                                                                 \n",
      " dropout (Dropout)           (None, 2, 2, 128)         0         \n",
      "                                                                 \n",
      " flatten (Flatten)           (None, 512)               0         \n",
      "                                                                 \n",
      " dense (Dense)               (None, 128)               65664     \n",
      "                                                                 \n",
      " dropout_1 (Dropout)         (None, 128)               0         \n",
      "                                                                 \n",
      " dense_1 (Dense)             (None, 35)                4515      \n",
      "                                                                 \n",
      "=================================================================\n",
      "Total params: 162,851\n",
      "Trainable params: 162,851\n",
      "Non-trainable params: 0\n",
      "_________________________________________________________________\n"
     ]
    }
   ],
   "source": [
    "model.summary()"
   ]
  },
  {
   "cell_type": "code",
   "execution_count": 17,
   "id": "2e58f643",
   "metadata": {},
   "outputs": [],
   "source": [
    "model.compile(loss='categorical_crossentropy', optimizer=\"adam\",metrics=['accuracy'])"
   ]
  },
  {
   "cell_type": "code",
   "execution_count": 18,
   "id": "588cb8d8",
   "metadata": {},
   "outputs": [
    {
     "name": "stdout",
     "output_type": "stream",
     "text": [
      "Epoch 1/50\n",
      "2188/2188 [==============================] - 195s 88ms/step - loss: 0.5899 - accuracy: 0.8100 - val_loss: 0.6362 - val_accuracy: 0.8519\n",
      "Epoch 2/50\n",
      "2188/2188 [==============================] - 207s 95ms/step - loss: 0.3051 - accuracy: 0.8928 - val_loss: 0.6313 - val_accuracy: 0.8452\n",
      "Epoch 3/50\n",
      "2188/2188 [==============================] - 174s 80ms/step - loss: 0.2645 - accuracy: 0.9057 - val_loss: 0.5748 - val_accuracy: 0.8743\n",
      "Epoch 4/50\n",
      "2188/2188 [==============================] - 155s 71ms/step - loss: 0.2394 - accuracy: 0.9122 - val_loss: 0.6394 - val_accuracy: 0.8676\n",
      "Epoch 5/50\n",
      "2188/2188 [==============================] - 157s 72ms/step - loss: 0.2238 - accuracy: 0.9169 - val_loss: 0.6327 - val_accuracy: 0.8741\n",
      "Epoch 6/50\n",
      "2188/2188 [==============================] - 160s 73ms/step - loss: 0.2115 - accuracy: 0.9207 - val_loss: 0.6186 - val_accuracy: 0.8640\n",
      "Epoch 7/50\n",
      "2188/2188 [==============================] - 171s 78ms/step - loss: 0.2017 - accuracy: 0.9237 - val_loss: 0.6952 - val_accuracy: 0.8645\n",
      "Epoch 8/50\n",
      "2188/2188 [==============================] - 164s 75ms/step - loss: 0.1950 - accuracy: 0.9258 - val_loss: 0.6647 - val_accuracy: 0.8751\n",
      "Epoch 9/50\n",
      "2188/2188 [==============================] - 156s 71ms/step - loss: 0.1884 - accuracy: 0.9275 - val_loss: 0.6396 - val_accuracy: 0.8831\n",
      "Epoch 10/50\n",
      "2188/2188 [==============================] - 151s 69ms/step - loss: 0.1828 - accuracy: 0.9296 - val_loss: 0.6872 - val_accuracy: 0.8731\n",
      "Epoch 11/50\n",
      "2188/2188 [==============================] - 165s 75ms/step - loss: 0.1772 - accuracy: 0.9315 - val_loss: 0.7045 - val_accuracy: 0.8774\n",
      "Epoch 12/50\n",
      "2188/2188 [==============================] - 165s 75ms/step - loss: 0.1744 - accuracy: 0.9317 - val_loss: 0.7158 - val_accuracy: 0.8728\n",
      "Epoch 13/50\n",
      "2188/2188 [==============================] - 164s 75ms/step - loss: 0.1690 - accuracy: 0.9338 - val_loss: 0.6908 - val_accuracy: 0.8790\n",
      "Epoch 14/50\n",
      "2188/2188 [==============================] - 161s 73ms/step - loss: 0.1654 - accuracy: 0.9350 - val_loss: 0.7773 - val_accuracy: 0.8743\n",
      "Epoch 15/50\n",
      "2188/2188 [==============================] - 215s 98ms/step - loss: 0.1626 - accuracy: 0.9357 - val_loss: 0.7101 - val_accuracy: 0.8692\n",
      "Epoch 16/50\n",
      "2188/2188 [==============================] - 249s 114ms/step - loss: 0.1584 - accuracy: 0.9366 - val_loss: 0.7111 - val_accuracy: 0.8632\n",
      "Epoch 17/50\n",
      "2188/2188 [==============================] - 263s 120ms/step - loss: 0.1558 - accuracy: 0.9383 - val_loss: 0.7320 - val_accuracy: 0.8778\n",
      "Epoch 18/50\n",
      "2188/2188 [==============================] - 247s 113ms/step - loss: 0.1538 - accuracy: 0.9391 - val_loss: 0.7198 - val_accuracy: 0.8837\n",
      "Epoch 19/50\n",
      "2188/2188 [==============================] - 238s 109ms/step - loss: 0.1494 - accuracy: 0.9399 - val_loss: 0.7535 - val_accuracy: 0.8712\n",
      "Epoch 20/50\n",
      "2188/2188 [==============================] - 239s 109ms/step - loss: 0.1491 - accuracy: 0.9403 - val_loss: 0.7539 - val_accuracy: 0.8831\n",
      "Epoch 21/50\n",
      "2188/2188 [==============================] - 238s 109ms/step - loss: 0.1460 - accuracy: 0.9415 - val_loss: 0.8210 - val_accuracy: 0.8710\n",
      "Epoch 22/50\n",
      "2188/2188 [==============================] - 235s 107ms/step - loss: 0.1449 - accuracy: 0.9420 - val_loss: 0.7787 - val_accuracy: 0.8829\n",
      "Epoch 23/50\n",
      "2188/2188 [==============================] - 237s 108ms/step - loss: 0.1450 - accuracy: 0.9420 - val_loss: 0.8319 - val_accuracy: 0.8743\n",
      "Epoch 24/50\n",
      "2188/2188 [==============================] - 256s 117ms/step - loss: 0.1423 - accuracy: 0.9427 - val_loss: 0.8437 - val_accuracy: 0.8789\n",
      "Epoch 25/50\n",
      "2188/2188 [==============================] - 257s 117ms/step - loss: 0.1406 - accuracy: 0.9438 - val_loss: 0.8415 - val_accuracy: 0.8738\n",
      "Epoch 26/50\n",
      "2188/2188 [==============================] - 239s 109ms/step - loss: 0.1397 - accuracy: 0.9435 - val_loss: 0.8399 - val_accuracy: 0.8749\n",
      "Epoch 27/50\n",
      "2188/2188 [==============================] - 244s 111ms/step - loss: 0.1380 - accuracy: 0.9436 - val_loss: 0.8106 - val_accuracy: 0.8801\n",
      "Epoch 28/50\n",
      "2188/2188 [==============================] - 240s 110ms/step - loss: 0.1363 - accuracy: 0.9446 - val_loss: 0.8216 - val_accuracy: 0.8815\n",
      "Epoch 29/50\n",
      "2188/2188 [==============================] - 236s 108ms/step - loss: 0.1355 - accuracy: 0.9451 - val_loss: 0.8454 - val_accuracy: 0.8712\n",
      "Epoch 30/50\n",
      "2188/2188 [==============================] - 236s 108ms/step - loss: 0.1315 - accuracy: 0.9466 - val_loss: 0.8756 - val_accuracy: 0.8862\n",
      "Epoch 31/50\n",
      "2188/2188 [==============================] - 237s 108ms/step - loss: 0.1346 - accuracy: 0.9460 - val_loss: 0.8698 - val_accuracy: 0.8836\n",
      "Epoch 32/50\n",
      "2188/2188 [==============================] - 234s 107ms/step - loss: 0.1329 - accuracy: 0.9460 - val_loss: 0.8451 - val_accuracy: 0.8711\n",
      "Epoch 33/50\n",
      "2188/2188 [==============================] - 236s 108ms/step - loss: 0.1304 - accuracy: 0.9470 - val_loss: 0.8624 - val_accuracy: 0.8823\n",
      "Epoch 34/50\n",
      "2188/2188 [==============================] - 237s 108ms/step - loss: 0.1307 - accuracy: 0.9470 - val_loss: 0.8378 - val_accuracy: 0.8771\n",
      "Epoch 35/50\n",
      "2188/2188 [==============================] - 240s 110ms/step - loss: 0.1295 - accuracy: 0.9472 - val_loss: 0.8911 - val_accuracy: 0.8809\n",
      "Epoch 36/50\n",
      "2188/2188 [==============================] - 255s 116ms/step - loss: 0.1275 - accuracy: 0.9475 - val_loss: 0.8627 - val_accuracy: 0.8793\n",
      "Epoch 37/50\n",
      "2188/2188 [==============================] - 261s 119ms/step - loss: 0.1274 - accuracy: 0.9485 - val_loss: 0.9446 - val_accuracy: 0.8745\n",
      "Epoch 38/50\n",
      "2188/2188 [==============================] - 265s 121ms/step - loss: 0.1250 - accuracy: 0.9489 - val_loss: 0.9000 - val_accuracy: 0.8815\n",
      "Epoch 39/50\n",
      "2188/2188 [==============================] - 246s 112ms/step - loss: 0.1257 - accuracy: 0.9493 - val_loss: 0.9264 - val_accuracy: 0.8807\n",
      "Epoch 40/50\n",
      "2188/2188 [==============================] - 243s 111ms/step - loss: 0.1246 - accuracy: 0.9498 - val_loss: 0.9790 - val_accuracy: 0.8748\n",
      "Epoch 41/50\n",
      "2188/2188 [==============================] - 244s 111ms/step - loss: 0.1235 - accuracy: 0.9498 - val_loss: 0.8992 - val_accuracy: 0.8795\n",
      "Epoch 42/50\n",
      "2188/2188 [==============================] - 257s 117ms/step - loss: 0.1237 - accuracy: 0.9499 - val_loss: 0.9294 - val_accuracy: 0.8745\n",
      "Epoch 43/50\n",
      "2188/2188 [==============================] - 283s 129ms/step - loss: 0.1231 - accuracy: 0.9501 - val_loss: 0.9298 - val_accuracy: 0.8788\n",
      "Epoch 44/50\n",
      "2188/2188 [==============================] - 288s 131ms/step - loss: 0.1226 - accuracy: 0.9503 - val_loss: 0.9234 - val_accuracy: 0.8813\n",
      "Epoch 45/50\n",
      "2188/2188 [==============================] - 289s 132ms/step - loss: 0.1214 - accuracy: 0.9505 - val_loss: 0.9236 - val_accuracy: 0.8763\n",
      "Epoch 46/50\n",
      "2188/2188 [==============================] - 28569s 13s/step - loss: 0.1220 - accuracy: 0.9501 - val_loss: 0.8704 - val_accuracy: 0.8864\n",
      "Epoch 47/50\n",
      "2188/2188 [==============================] - 240s 110ms/step - loss: 0.1204 - accuracy: 0.9504 - val_loss: 0.9449 - val_accuracy: 0.8776\n",
      "Epoch 48/50\n",
      "2188/2188 [==============================] - 250s 114ms/step - loss: 0.1204 - accuracy: 0.9517 - val_loss: 0.9926 - val_accuracy: 0.8698\n",
      "Epoch 49/50\n",
      "2188/2188 [==============================] - 254s 116ms/step - loss: 0.1199 - accuracy: 0.9510 - val_loss: 0.9404 - val_accuracy: 0.8795\n",
      "Epoch 50/50\n",
      "2188/2188 [==============================] - 257s 118ms/step - loss: 0.1189 - accuracy: 0.9518 - val_loss: 0.9446 - val_accuracy: 0.8805\n"
     ]
    }
   ],
   "source": [
    "history = model.fit(train_X,train_Y, epochs=50, batch_size=64, validation_data = (val_X, val_Y),  verbose=1)"
   ]
  },
  {
   "cell_type": "code",
   "execution_count": 19,
   "id": "e0e76aed",
   "metadata": {},
   "outputs": [
    {
     "data": {
      "image/png": "[encoded data removed]",
      "text/plain": [
       "<Figure size 640x480 with 1 Axes>"
      ]
     },
     "metadata": {},
     "output_type": "display_data"
    }
   ],
   "source": [
    "plt.plot(history.history['accuracy'])\n",
    "plt.plot(history.history['val_accuracy'])\n",
    "plt.title('Training Accuracy vs Validation Accuracy')\n",
    "plt.ylabel('Accuracy')\n",
    "plt.xlabel('Epoch')\n",
    "plt.legend(['Train', 'Validation'], loc='upper left')\n",
    "plt.show()"
   ]
  },
  {
   "cell_type": "code",
   "execution_count": 20,
   "id": "0d847620",
   "metadata": {},
   "outputs": [
    {
     "data": {
      "image/png": "[encoded data removed]",
      "text/plain": [
       "<Figure size 640x480 with 1 Axes>"
      ]
     },
     "metadata": {},
     "output_type": "display_data"
    }
   ],
   "source": [
    "plt.plot(history.history['loss'])\n",
    "plt.plot(history.history['val_loss'])\n",
    "plt.title('Training Loss vs Validation Loss')\n",
    "plt.ylabel('Loss')\n",
    "plt.xlabel('Epoch')\n",
    "plt.legend(['Train', 'Validation'], loc='upper left')\n",
    "plt.show()"
   ]
  },
  {
   "cell_type": "code",
   "execution_count": 21,
   "id": "9edf1a28",
   "metadata": {},
   "outputs": [],
   "source": [
    "def sort_contours(cnts, method=\"left-to-right\"):\n",
    "    reverse = False\n",
    "    i = 0\n",
    "    if method == \"right-to-left\" or method == \"bottom-to-top\":\n",
    "        reverse = True\n",
    "    if method == \"top-to-bottom\" or method == \"bottom-to-top\":\n",
    "        i = 1\n",
    "    boundingBoxes = [cv2.boundingRect(c) for c in cnts]\n",
    "    (cnts, boundingBoxes) = zip(*sorted(zip(cnts, boundingBoxes),\n",
    "    key=lambda b:b[1][i], reverse=reverse))\n",
    "    \n",
    "    return (cnts, boundingBoxes)"
   ]
  },
  {
   "cell_type": "code",
   "execution_count": 22,
   "id": "b4918d0d",
   "metadata": {},
   "outputs": [],
   "source": [
    "def get_letters(img):\n",
    "    letters = []\n",
    "    total_bbox_cordi = []\n",
    "    image = cv2.imread(img)\n",
    "    gray = cv2.cvtColor(image, cv2.COLOR_BGR2GRAY)\n",
    "    ret,thresh1 = cv2.threshold(gray ,127,255,cv2.THRESH_BINARY_INV)\n",
    "    dilated = cv2.dilate(thresh1, None, iterations=2)\n",
    "\n",
    "    cnts = cv2.findContours(dilated.copy(), cv2.RETR_EXTERNAL,cv2.CHAIN_APPROX_SIMPLE)\n",
    "    cnts = imutils.grab_contours(cnts)\n",
    "    cnts = sort_contours(cnts, method=\"left-to-right\")[0]\n",
    "    \n",
    "    for c in cnts:\n",
    "        if cv2.contourArea(c) > 10:\n",
    "            (x, y, w, h) = cv2.boundingRect(c)\n",
    "            print([x,y,w,h])\n",
    "            single_bbox_cordi = [x,y,w,h]\n",
    "            total_bbox_cordi.append(single_bbox_cordi)\n",
    "            cv2.rectangle(image, (x, y), (x + w, y + h), (0, 255, 0), 2)\n",
    "        roi = gray[y:y + h, x:x + w]\n",
    "        thresh = cv2.threshold(roi, 0, 255,cv2.THRESH_BINARY_INV | cv2.THRESH_OTSU)[1]\n",
    "        thresh = cv2.resize(thresh, (32, 32), interpolation = cv2.INTER_CUBIC)\n",
    "        thresh = thresh.astype(\"float32\") / 255.0\n",
    "        thresh = np.expand_dims(thresh, axis=-1)\n",
    "        thresh = thresh.reshape(1,32,32,1)\n",
    "        ypred = model.predict(thresh)\n",
    "        ypred = LB.inverse_transform(ypred)\n",
    "        [x] = ypred\n",
    "        letters.append(x)\n",
    "    return letters, image, total_bbox_cordi"
   ]
  },
  {
   "cell_type": "code",
   "execution_count": 23,
   "id": "83bcd6cc",
   "metadata": {},
   "outputs": [],
   "source": [
    "def get_word(letter):\n",
    "    word = \"\".join(letter)\n",
    "    return word"
   ]
  },
  {
   "cell_type": "code",
   "execution_count": 37,
   "id": "e143cb50",
   "metadata": {},
   "outputs": [
    {
     "name": "stdout",
     "output_type": "stream",
     "text": [
      "[9, 12, 15, 19]\n",
      "1/1 [==============================] - 0s 210ms/step\n",
      "[28, 14, 13, 17]\n",
      "1/1 [==============================] - 0s 124ms/step\n",
      "[48, 13, 13, 19]\n",
      "1/1 [==============================] - 0s 345ms/step\n",
      "[65, 13, 13, 19]\n",
      "1/1 [==============================] - 0s 269ms/step\n",
      "[83, 13, 11, 17]\n",
      "1/1 [==============================] - 0s 349ms/step\n",
      "CDRLA\n",
      "[[9, 12, 15, 19], [28, 14, 13, 17], [48, 13, 13, 19], [65, 13, 13, 19], [83, 13, 11, 17]]\n"
     ]
    },
    {
     "data": {
      "text/plain": [
       "<matplotlib.image.AxesImage at 0x2348f7f0e50>"
      ]
     },
     "execution_count": 37,
     "metadata": {},
     "output_type": "execute_result"
    },
    {
     "data": {
      "image/png": "[encoded data removed]",
      "text/plain": [
       "<Figure size 640x480 with 1 Axes>"
      ]
     },
     "metadata": {},
     "output_type": "display_data"
    }
   ],
   "source": [
    "letter,image, total_bbox_cordi = get_letters(\"archive (2)\\\\test_v2\\\\test\\\\TEST_9954.jpg\")\n",
    "word = get_word(letter)\n",
    "print(word)\n",
    "print(total_bbox_cordi)\n",
    "plt.imshow(image)"
   ]
  },
  {
   "cell_type": "code",
   "execution_count": 38,
   "id": "83ffdc7d",
   "metadata": {},
   "outputs": [
    {
     "data": {
      "text/plain": [
       "['C', 'D', 'R', 'L', 'A']"
      ]
     },
     "execution_count": 38,
     "metadata": {},
     "output_type": "execute_result"
    }
   ],
   "source": [
    "letter"
   ]
  },
  {
   "cell_type": "code",
   "execution_count": null,
   "id": "8bd615a0",
   "metadata": {},
   "outputs": [],
   "source": [
    "!mkdir -p saved_model\n",
    "model.save('saved_model/my_model')"
   ]
  }
 ],
 "metadata": {
  "kernelspec": {
   "display_name": "Python 3 (ipykernel)",
   "language": "python",
   "name": "python3"
  },
  "language_info": {
   "codemirror_mode": {
    "name": "ipython",
    "version": 3
   },
   "file_extension": ".py",
   "mimetype": "text/x-python",
   "name": "python",
   "nbconvert_exporter": "python",
   "pygments_lexer": "ipython3",
   "version": "3.9.13"
  }
 },
 "nbformat": 4,
 "nbformat_minor": 5
}
